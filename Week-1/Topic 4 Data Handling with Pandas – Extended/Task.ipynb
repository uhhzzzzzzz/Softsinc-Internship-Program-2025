{
 "cells": [
  {
   "cell_type": "code",
   "execution_count": 2,
   "id": "10c2f4d8",
   "metadata": {},
   "outputs": [
    {
     "name": "stdout",
     "output_type": "stream",
     "text": [
      "Sex\n",
      "female    0.742038\n",
      "male      0.188908\n",
      "Name: Survived, dtype: float64\n"
     ]
    }
   ],
   "source": [
    "import pandas as pd\n",
    "\n",
    "titanic = pd.read_csv('titanic.csv')\n",
    "\n",
    "survival_by_gender = titanic.groupby('Sex')['Survived'].mean()\n",
    "print(survival_by_gender)"
   ]
  },
  {
   "cell_type": "code",
   "execution_count": 3,
   "id": "ac56b0ac",
   "metadata": {},
   "outputs": [
    {
     "name": "stdout",
     "output_type": "stream",
     "text": [
      "    PassengerId  Survived  Pclass  \\\n",
      "1             2         1       1   \n",
      "3             4         1       1   \n",
      "6             7         0       1   \n",
      "11           12         1       1   \n",
      "23           24         1       1   \n",
      "\n",
      "                                                 Name     Sex   Age  SibSp  \\\n",
      "1   Cumings, Mrs. John Bradley (Florence Briggs Th...  female  38.0      1   \n",
      "3        Futrelle, Mrs. Jacques Heath (Lily May Peel)  female  35.0      1   \n",
      "6                             McCarthy, Mr. Timothy J    male  54.0      0   \n",
      "11                           Bonnell, Miss. Elizabeth  female  58.0      0   \n",
      "23                       Sloper, Mr. William Thompson    male  28.0      0   \n",
      "\n",
      "    Parch    Ticket     Fare Cabin Embarked  \n",
      "1       0  PC 17599  71.2833   C85        C  \n",
      "3       0    113803  53.1000  C123        S  \n",
      "6       0     17463  51.8625   E46        S  \n",
      "11      0    113783  26.5500  C103        S  \n",
      "23      0    113788  35.5000    A6        S  \n"
     ]
    }
   ],
   "source": [
    "filtered_data = titanic[(titanic['Age'] > 18) & (titanic['Pclass'] == 1)]\n",
    "print(filtered_data.head())"
   ]
  },
  {
   "cell_type": "code",
   "execution_count": 5,
   "id": "c344aa04",
   "metadata": {},
   "outputs": [
    {
     "name": "stdout",
     "output_type": "stream",
     "text": [
      "Actual data: 891 cleaned data: 183 rows\n",
      "Actual data: 891Rows, without duplication: 891 rows\n"
     ]
    }
   ],
   "source": [
    "\n",
    "cleaned_data = titanic.dropna()\n",
    "print(f\"Actual data: {len(titanic)} cleaned data: {len(cleaned_data)} rows\")\n",
    "\n",
    "no_duplicates = titanic.drop_duplicates()\n",
    "print(f\"Actual data: {len(titanic)}Rows, without duplication: {len(no_duplicates)} rows\")"
   ]
  }
 ],
 "metadata": {
  "kernelspec": {
   "display_name": "Python 3",
   "language": "python",
   "name": "python3"
  },
  "language_info": {
   "codemirror_mode": {
    "name": "ipython",
    "version": 3
   },
   "file_extension": ".py",
   "mimetype": "text/x-python",
   "name": "python",
   "nbconvert_exporter": "python",
   "pygments_lexer": "ipython3",
   "version": "3.11.9"
  }
 },
 "nbformat": 4,
 "nbformat_minor": 5
}
