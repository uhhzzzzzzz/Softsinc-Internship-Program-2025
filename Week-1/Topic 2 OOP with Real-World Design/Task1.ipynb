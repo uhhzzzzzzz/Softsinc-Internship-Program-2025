{
 "cells": [
  {
   "cell_type": "code",
   "execution_count": 3,
   "id": "0c809eaf",
   "metadata": {},
   "outputs": [],
   "source": [
    "class User:\n",
    "    def __init__(self, name, email):\n",
    "        self.name = name\n",
    "        self.email = email\n",
    "        self.__password = None  # Encapsulated \n",
    "\n",
    "    def set_password(self, password):\n",
    "        if len(password) >= 8:\n",
    "            self.__password = password\n",
    "        else:\n",
    "            raise ValueError(\"Password cannot be less than 8 characters!\")\n",
    "\n",
    "    def __str__(self):\n",
    "        return f\"Name: {self.name} (Email: {self.email})\"\n",
    "\n",
    "class Intern(User):\n",
    "    def __init__(self, name, email, internship_duration):\n",
    "        super().__init__(name, email)\n",
    "        self.internship_duration = internship_duration\n",
    "\n",
    "    def __str__(self):\n",
    "        return f\"Intern: {self.name} (time: {self.internship_duration} month)\"\n",
    "\n",
    "class Mentor(User):\n",
    "    def __init__(self, name, email, expertise):\n",
    "        super().__init__(name, email)\n",
    "        self.expertise = expertise\n",
    "\n",
    "    def __str__(self):\n",
    "        return f\"Mentor: {self.name} (Expertise: {self.expertise})\""
   ]
  },
  {
   "cell_type": "code",
   "execution_count": 4,
   "id": "d0b8e199",
   "metadata": {},
   "outputs": [],
   "source": [
    "class Message:\n",
    "    def __init__(self, sender, receiver, content):\n",
    "        self.sender = sender\n",
    "        self.receiver = receiver\n",
    "        self.content = content\n",
    "\n",
    "    def __str__(self):\n",
    "        return f\"{self.sender.name} → {self.receiver.name}: {self.content}\"\n",
    "\n",
    "class ChatSystem:\n",
    "    def __init__(self):\n",
    "        self.users = []\n",
    "        self.messages = []\n",
    "\n",
    "    def add_user(self, user):\n",
    "        self.users.append(user)\n",
    "\n",
    "    def send_message(self, sender, receiver, content):\n",
    "        if sender in self.users and receiver in self.users:\n",
    "            message = Message(sender, receiver, content)\n",
    "            self.messages.append(message)\n",
    "            return message\n",
    "        else:\n",
    "            raise ValueError(\"User does not exist!\")\n",
    "\n",
    "    def show_chat(self):\n",
    "        for msg in self.messages:\n",
    "            print(msg)"
   ]
  },
  {
   "cell_type": "code",
   "execution_count": 6,
   "id": "042b870e",
   "metadata": {},
   "outputs": [
    {
     "name": "stdout",
     "output_type": "stream",
     "text": [
      "Amir → Ali: How is your project going?\n",
      "Ali → Amir: Sir, I solved the problem!\n"
     ]
    }
   ],
   "source": [
    "#Create user\n",
    "user1 = User(\"Amir\", \"amir@example.com\")\n",
    "intern1 = Intern(\"Ali\", \"ali@intern.com\", 6)\n",
    "mentor1 = Mentor(\"Ahmad\", \"ahmed@mentor.com\", \"python\")\n",
    "\n",
    "# create chat system \n",
    "chat_app = ChatSystem()\n",
    "chat_app.add_user(user1)\n",
    "chat_app.add_user(intern1)\n",
    "chat_app.add_user(mentor1)\n",
    "\n",
    "# send message\n",
    "chat_app.send_message(user1, intern1, \"How is your project going?\")\n",
    "chat_app.send_message(intern1, user1, \"Sir, I solved the problem!\")\n",
    "\n",
    "# check chat\n",
    "chat_app.show_chat()"
   ]
  }
 ],
 "metadata": {
  "kernelspec": {
   "display_name": "Python 3",
   "language": "python",
   "name": "python3"
  },
  "language_info": {
   "codemirror_mode": {
    "name": "ipython",
    "version": 3
   },
   "file_extension": ".py",
   "mimetype": "text/x-python",
   "name": "python",
   "nbconvert_exporter": "python",
   "pygments_lexer": "ipython3",
   "version": "3.11.9"
  }
 },
 "nbformat": 4,
 "nbformat_minor": 5
}
