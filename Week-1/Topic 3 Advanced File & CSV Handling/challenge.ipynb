{
 "cells": [
  {
   "cell_type": "code",
   "execution_count": 2,
   "id": "c86541f6",
   "metadata": {},
   "outputs": [],
   "source": [
    "import os\n",
    "from datetime import datetime\n",
    "\n",
    "log_dir = \"D:\\Softsinc internship\\Topic 3 Advanced File & CSV Handling\"  \n",
    "errors = []\n",
    "\n",
    "\n",
    "for file_name in os.listdir(log_dir):\n",
    "    if file_name.endswith(\".log\") or file_name.endswith(\".txt\"):\n",
    "        with open(os.path.join(log_dir, file_name)) as f:\n",
    "            for line in f:\n",
    "                if \"ERROR\" in line or \"WARNING\" in line:\n",
    "                    errors.append((file_name, line.strip()))\n",
    "\n",
    "with open(\"log_report.txt\", \"w\") as report:\n",
    "    report.write(f\"Log Report Generated: {datetime.now()}\\n\\n\")\n",
    "    report.write(\"Error/Warning Summary:\\n\\n\")\n",
    "    for file_name, error in errors:\n",
    "        report.write(f\"{file_name} --> {error}\\n\")\n"
   ]
  }
 ],
 "metadata": {
  "kernelspec": {
   "display_name": "Python 3",
   "language": "python",
   "name": "python3"
  },
  "language_info": {
   "codemirror_mode": {
    "name": "ipython",
    "version": 3
   },
   "file_extension": ".py",
   "mimetype": "text/x-python",
   "name": "python",
   "nbconvert_exporter": "python",
   "pygments_lexer": "ipython3",
   "version": "3.11.9"
  }
 },
 "nbformat": 4,
 "nbformat_minor": 5
}
