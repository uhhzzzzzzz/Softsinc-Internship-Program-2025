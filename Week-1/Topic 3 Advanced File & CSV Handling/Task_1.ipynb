{
 "cells": [
  {
   "cell_type": "code",
   "execution_count": 3,
   "id": "52b9123a",
   "metadata": {},
   "outputs": [
    {
     "name": "stdout",
     "output_type": "stream",
     "text": [
      "Rows with missing values:\n",
      "Empty DataFrame\n",
      "Columns: [ReviewID, ProductID, UserID, Rating, ReviewText, ReviewDate]\n",
      "Index: []\n"
     ]
    }
   ],
   "source": [
    "import pandas as pd\n",
    "\n",
    "df = pd.read_csv(\"product_reviews_mock_data.csv\")\n",
    "missing_rows = df[df.isnull().any(axis=1)]\n",
    "print(\"Rows with missing values:\")\n",
    "print(missing_rows)\n"
   ]
  },
  {
   "cell_type": "code",
   "execution_count": 4,
   "id": "6498c854",
   "metadata": {},
   "outputs": [
    {
     "name": "stdout",
     "output_type": "stream",
     "text": [
      "ReviewID: 1000 unique values\n",
      "ProductID: 5 unique values\n",
      "UserID: 100 unique values\n",
      "Rating: 5 unique values\n",
      "ReviewText: 641 unique values\n",
      "ReviewDate: 536 unique values\n"
     ]
    }
   ],
   "source": [
    "for column in df.columns:\n",
    "    unique_count = df[column].nunique()\n",
    "    print(f\"{column}: {unique_count} unique values\")\n"
   ]
  },
  {
   "cell_type": "code",
   "execution_count": 5,
   "id": "c143020b",
   "metadata": {},
   "outputs": [],
   "source": [
    "summary = df.describe(include='all')  # پوری summary\n",
    "missing_count = df.isnull().sum()\n"
   ]
  },
  {
   "cell_type": "code",
   "execution_count": 6,
   "id": "842076e7",
   "metadata": {},
   "outputs": [],
   "source": [
    "from datetime import datetime\n",
    "\n",
    "timestamp = datetime.now().strftime(\"%Y-%m-%d %H:%M:%S\")\n"
   ]
  },
  {
   "cell_type": "code",
   "execution_count": 7,
   "id": "7761b608",
   "metadata": {},
   "outputs": [],
   "source": [
    "with open(\"report.txt\", \"w\") as file:\n",
    "    file.write(f\"Report Generated: {timestamp}\\n\\n\")\n",
    "    file.write(\"Missing Values:\\n\")\n",
    "    file.write(str(missing_count))\n",
    "    file.write(\"\\n\\nSummary Statistics:\\n\")\n",
    "    file.write(str(summary))\n"
   ]
  }
 ],
 "metadata": {
  "kernelspec": {
   "display_name": "Python 3",
   "language": "python",
   "name": "python3"
  },
  "language_info": {
   "codemirror_mode": {
    "name": "ipython",
    "version": 3
   },
   "file_extension": ".py",
   "mimetype": "text/x-python",
   "name": "python",
   "nbconvert_exporter": "python",
   "pygments_lexer": "ipython3",
   "version": "3.11.9"
  }
 },
 "nbformat": 4,
 "nbformat_minor": 5
}
