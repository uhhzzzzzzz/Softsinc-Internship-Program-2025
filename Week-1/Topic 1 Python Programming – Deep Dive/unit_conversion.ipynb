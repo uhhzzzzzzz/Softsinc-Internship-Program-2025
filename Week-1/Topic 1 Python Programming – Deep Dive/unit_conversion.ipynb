{
 "cells": [
  {
   "cell_type": "code",
   "execution_count": 1,
   "id": "18ee7fc0",
   "metadata": {},
   "outputs": [
    {
     "name": "stdout",
     "output_type": "stream",
     "text": [
      "Inches: [12.99]\n"
     ]
    }
   ],
   "source": [
    "def convert_cm_to_inches():\n",
    "    cm_values = input('Centimeters_values')\n",
    "    cm_list = list(map(float, cm_values.split(',')))  \n",
    "    \n",
    "    \n",
    "    inch_list = list(map(lambda x: round(x / 2.54, 2), cm_list))\n",
    "    \n",
    "    print(\"Inches:\", inch_list)\n",
    "\n",
    "if __name__ == \"__main__\":\n",
    "    convert_cm_to_inches()\n"
   ]
  }
 ],
 "metadata": {
  "kernelspec": {
   "display_name": "Python 3",
   "language": "python",
   "name": "python3"
  },
  "language_info": {
   "codemirror_mode": {
    "name": "ipython",
    "version": 3
   },
   "file_extension": ".py",
   "mimetype": "text/x-python",
   "name": "python",
   "nbconvert_exporter": "python",
   "pygments_lexer": "ipython3",
   "version": "3.11.9"
  }
 },
 "nbformat": 4,
 "nbformat_minor": 5
}
