{
 "cells": [
  {
   "cell_type": "code",
   "execution_count": null,
   "id": "9310e802",
   "metadata": {},
   "outputs": [
    {
     "name": "stdout",
     "output_type": "stream",
     "text": [
      "1 Files copied: ['retail_sales_mock_data.csv']\n"
     ]
    }
   ],
   "source": [
    "import os\n",
    "import shutil\n",
    "\n",
    "def copy_text_csv_files(source_dir, dest_dir):\n",
    "    # If the destination folder does not exist, create it.\n",
    "    if not os.path.exists(dest_dir):\n",
    "        os.makedirs(dest_dir)\n",
    "    \n",
    "    files_copied = []\n",
    "    for filename in os.listdir(source_dir):\n",
    "        if filename.endswith('.txt') or filename.endswith('.csv'):\n",
    "            full_file_path = os.path.join(source_dir, filename)\n",
    "            shutil.copy(full_file_path, dest_dir)\n",
    "            files_copied.append(filename)\n",
    "    \n",
    "    print(f\"{len(files_copied)} Files copied: {files_copied}\")\n",
    "\n",
    "if __name__ == \"__main__\":\n",
    "    # Get the folder path from the user where the files will be read from\n",
    "    source = input(\"Enter the path to the folder from which to read files:\")\n",
    "    # Get a new folder from the user where the files will be copied\n",
    "    destination = input(\"New folder to copy to:\")\n",
    "    # Call the function that will copy\n",
    "    copy_text_csv_files(source, destination)\n"
   ]
  }
 ],
 "metadata": {
  "kernelspec": {
   "display_name": "Python 3",
   "language": "python",
   "name": "python3"
  },
  "language_info": {
   "codemirror_mode": {
    "name": "ipython",
    "version": 3
   },
   "file_extension": ".py",
   "mimetype": "text/x-python",
   "name": "python",
   "nbconvert_exporter": "python",
   "pygments_lexer": "ipython3",
   "version": "3.11.9"
  }
 },
 "nbformat": 4,
 "nbformat_minor": 5
}
